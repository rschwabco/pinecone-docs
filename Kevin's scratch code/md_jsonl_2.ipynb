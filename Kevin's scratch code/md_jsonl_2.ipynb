{
 "cells": [
  {
   "cell_type": "code",
   "execution_count": 1,
   "metadata": {},
   "outputs": [],
   "source": [
    "import os\n",
    "import json\n",
    "import uuid\n",
    "\n",
    "def get_content(lines, line_position):\n",
    "  content_array = []\n",
    "  for line in lines[line_position:]:\n",
    "    content_array.append(line)\n",
    "  # get content\n",
    "  content = ' '.join(content_array)\n",
    "  return content\n",
    "\n",
    "def get_key_value_pairs(lines):\n",
    "  key_value_pairs = {}\n",
    "  line_position = 2\n",
    "  included_keys = ['title']\n",
    "\n",
    "  try:\n",
    "    for line in lines[lines.index('---')+1:]:\n",
    "      line_position += 1\n",
    "      if line == '---' or line.startswith('#'):\n",
    "        break\n",
    "      if ': ' in line:\n",
    "        key, value = line.split(': ')\n",
    "        if key in included_keys:\n",
    "          key_value_pairs[key.strip()] = value.strip()\n",
    "  except:\n",
    "    return line_position, key_value_pairs\n",
    "  return line_position, key_value_pairs\n",
    "\n",
    "def write_to_jsonl(data, output_json, output_file):\n",
    "  with open(output_file, 'a') as file:\n",
    "    file.write(output_json + '\\n')\n",
    "\n",
    "def walk_directory(directory_path, source, output_file):\n",
    "  json_entries = []\n",
    "  for root, dirs, files in os.walk(directory_path, source):\n",
    "    for file in files:\n",
    "      if file.endswith(\".md\"):\n",
    "        data = open(os.path.join(root, file),'r').read()\n",
    "        lines = data.split('\\n')\n",
    "\n",
    "        line_position, key_value_pairs = get_key_value_pairs(lines)\n",
    "\n",
    "        # add content to key_value_pairs\n",
    "        content = get_content(lines, line_position)\n",
    "        key_value_pairs['content'] = content\n",
    "        key_value_pairs['source'] = source\n",
    "        key_value_pairs['file'] = file\n",
    "        key_value_pairs['_id'] = {\"$oid\":str(uuid.uuid4())}\n",
    "\n",
    "        # output json\n",
    "        output_json = json.dumps(key_value_pairs, indent=4)\n",
    "        json_entries.append(output_json)\n",
    "  \n",
    "  with open(output_file, 'a') as file:\n",
    "    for entry in json_entries:\n",
    "      file.write(entry + '\\n')\n",
    "\n",
    "source = \"www\"\n",
    "output_file = 'www_output.jsonl'\n",
    "walk_directory('/Users/kevinbutler/Documents/GitHub/www/content/', source, output_file)\n",
    "\n",
    "source = \"readme_docs\"\n",
    "output_file = 'readme_docs_output.jsonl'\n",
    "walk_directory('/Users/kevinbutler/Documents/GitHub/readme-docs/v1.0/', source, output_file)"
   ]
  },
  {
   "cell_type": "code",
   "execution_count": 1,
   "metadata": {},
   "outputs": [
    {
     "data": {
      "text/plain": [
       "<pymongo.results.DeleteResult at 0x1064dbc40>"
      ]
     },
     "execution_count": 1,
     "metadata": {},
     "output_type": "execute_result"
    }
   ],
   "source": [
    "from pymongo import MongoClient\n",
    "\n",
    "client = MongoClient('mongodb://localhost:27017')\n",
    "db = client['pinecone']\n",
    "collection = db['combined']\n",
    "collection.delete_many({})"
   ]
  },
  {
   "cell_type": "code",
   "execution_count": null,
   "metadata": {},
   "outputs": [],
   "source": []
  }
 ],
 "metadata": {
  "kernelspec": {
   "display_name": "Python 3",
   "language": "python",
   "name": "python3"
  },
  "language_info": {
   "codemirror_mode": {
    "name": "ipython",
    "version": 3
   },
   "file_extension": ".py",
   "mimetype": "text/x-python",
   "name": "python",
   "nbconvert_exporter": "python",
   "pygments_lexer": "ipython3",
   "version": "3.10.9"
  },
  "orig_nbformat": 4,
  "vscode": {
   "interpreter": {
    "hash": "1ae620fa7718e7c4c4ebbe84e693c2c763ab51099ed818be0c928eb925e26ad7"
   }
  }
 },
 "nbformat": 4,
 "nbformat_minor": 2
}
