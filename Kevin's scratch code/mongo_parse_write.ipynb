{
 "cells": [
  {
   "cell_type": "code",
   "execution_count": 6,
   "metadata": {},
   "outputs": [
    {
     "name": "stdout",
     "output_type": "stream",
     "text": [
      "Job Complete\n"
     ]
    }
   ],
   "source": [
    "import os\n",
    "import json\n",
    "from pymongo import MongoClient\n",
    "import redis\n",
    "\n",
    "# Connect to MongoDB\n",
    "client = MongoClient('mongodb://localhost:27017')\n",
    "db = client['pinecone']\n",
    "collection = db['combined']\n",
    "\n",
    "# Connect to Redis\n",
    "redis_client = redis.Redis(host='192.168.1.206', port=6379, db=0)\n",
    "\n",
    "def get_content(lines, line_position):\n",
    "  content_array = []\n",
    "  for line in lines[line_position:]:\n",
    "    content_array.append(line)\n",
    "  # get content\n",
    "  content = ' '.join(content_array)\n",
    "  return content\n",
    "\n",
    "def get_key_value_pairs(lines):\n",
    "  key_value_pairs = {}\n",
    "  line_position = 2\n",
    "  included_keys = ['title']\n",
    "\n",
    "  try:\n",
    "    for line in lines[lines.index('---')+1:]:\n",
    "      line_position += 1\n",
    "      if line == '---' or line.startswith('#'):\n",
    "        break\n",
    "      if ': ' in line:\n",
    "        key, value = line.split(': ')\n",
    "        if key in included_keys:\n",
    "          key_value_pairs[key.strip()] = value.strip()\n",
    "  except:\n",
    "    return line_position, key_value_pairs\n",
    "  return line_position, key_value_pairs\n",
    "\n",
    "def write_to_mongo(data, output_json):\n",
    "  collection.insert_one(data)\n",
    "\n",
    "def walk_directory(directory_path, total_doc_count):\n",
    "  for root, dirs, files in os.walk(directory_path, source):\n",
    "    for file in files:\n",
    "      if file.endswith(\".md\"):\n",
    "        data = open(os.path.join(root, file),'r').read()\n",
    "        lines = data.split('\\n')\n",
    "\n",
    "        line_position, key_value_pairs = get_key_value_pairs(lines)\n",
    "\n",
    "        # add content to key_value_pairs\n",
    "        content = get_content(lines, line_position)\n",
    "        key_value_pairs['content'] = content\n",
    "        key_value_pairs['source'] = source\n",
    "        key_value_pairs['path'] = os.path.join(root, file)\n",
    "        \n",
    "        # output json\n",
    "        output_json = json.dumps(key_value_pairs, indent=4)\n",
    "\n",
    "        # write to mongo\n",
    "        write_to_mongo(key_value_pairs, output_json)\n",
    "        total_doc_count += 1\n",
    "  return total_doc_count    \n",
    "\n",
    "expected_total = 0\n",
    "\n",
    "source = \"www\"\n",
    "expected_total = walk_directory('/Users/kevinbutler/Documents/GitHub/www/content/', expected_total)\n",
    "\n",
    "source = \"readme_docs\"\n",
    "expected_total = walk_directory('/Users/kevinbutler/Documents/GitHub/readme-docs/v1.0/', expected_total)\n",
    "\n",
    "# Query MongoDB and \n",
    "query = {}\n",
    "result = collection.count_documents(query)\n",
    "\n",
    "while (result != expected_total):\n",
    "    print(str(result) + '!=' + str(expected_total))\n",
    "    # Query MongoDB\n",
    "    query = {}\n",
    "    result = collection.count_documents(query)\n",
    "else:\n",
    "  print(\"Job Complete\")"
   ]
  },
  {
   "cell_type": "code",
   "execution_count": null,
   "metadata": {},
   "outputs": [],
   "source": [
    "# Clear MongoDB\n",
    "from pymongo import MongoClient\n",
    "client = MongoClient('mongodb://localhost:27017')\n",
    "db = client['pinecone']\n",
    "collection = db['combined']\n",
    "collection.delete_many({})"
   ]
  },
  {
   "cell_type": "code",
   "execution_count": 7,
   "metadata": {},
   "outputs": [
    {
     "data": {
      "text/plain": [
       "(0, [])"
      ]
     },
     "execution_count": 7,
     "metadata": {},
     "output_type": "execute_result"
    }
   ],
   "source": [
    "redis_client.scan()"
   ]
  },
  {
   "cell_type": "code",
   "execution_count": 5,
   "metadata": {},
   "outputs": [
    {
     "data": {
      "text/plain": [
       "<pymongo.results.DeleteResult at 0x110d13520>"
      ]
     },
     "execution_count": 5,
     "metadata": {},
     "output_type": "execute_result"
    }
   ],
   "source": [
    "# Full Reload from scratch (Redis)\n",
    "redis_client.flushall()\n",
    "\n",
    "# Full Reload from scratch (MongoDB)\n",
    "collection.delete_many({})"
   ]
  },
  {
   "cell_type": "code",
   "execution_count": null,
   "metadata": {},
   "outputs": [],
   "source": []
  }
 ],
 "metadata": {
  "kernelspec": {
   "display_name": "Python 3",
   "language": "python",
   "name": "python3"
  },
  "language_info": {
   "codemirror_mode": {
    "name": "ipython",
    "version": 3
   },
   "file_extension": ".py",
   "mimetype": "text/x-python",
   "name": "python",
   "nbconvert_exporter": "python",
   "pygments_lexer": "ipython3",
   "version": "3.10.9"
  },
  "orig_nbformat": 4,
  "vscode": {
   "interpreter": {
    "hash": "1ae620fa7718e7c4c4ebbe84e693c2c763ab51099ed818be0c928eb925e26ad7"
   }
  }
 },
 "nbformat": 4,
 "nbformat_minor": 2
}
