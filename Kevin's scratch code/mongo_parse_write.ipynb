{
 "cells": [
  {
   "cell_type": "code",
   "execution_count": 5,
   "metadata": {},
   "outputs": [
    {
     "name": "stdout",
     "output_type": "stream",
     "text": [
      "Job Complete\n"
     ]
    }
   ],
   "source": [
    "import os\n",
    "import json\n",
    "from pymongo import MongoClient\n",
    "import redis\n",
    "\n",
    "# Connect to MongoDB\n",
    "client = MongoClient('mongodb://localhost:27017')\n",
    "db = client['pinecone']\n",
    "collection = db['combined']\n",
    "\n",
    "# Connect to Redis\n",
    "redis_client = redis.Redis(host='192.168.1.206', port=6379, db=0)\n",
    "\n",
    "def get_content(lines, line_position):\n",
    "  content_array = []\n",
    "  for line in lines[line_position:]:\n",
    "    content_array.append(line)\n",
    "  # get content\n",
    "  content = ' '.join(content_array)\n",
    "  return content\n",
    "\n",
    "def get_key_value_pairs(lines):\n",
    "  key_value_pairs = {}\n",
    "  line_position = 2\n",
    "  included_keys = ['title']\n",
    "\n",
    "  try:\n",
    "    for line in lines[lines.index('---')+1:]:\n",
    "      line_position += 1\n",
    "      if line == '---' or line.startswith('#'):\n",
    "        break\n",
    "      if ': ' in line:\n",
    "        key, value = line.split(': ')\n",
    "        if key in included_keys:\n",
    "          key_value_pairs[key.strip()] = value.strip()\n",
    "  except:\n",
    "    return line_position, key_value_pairs\n",
    "  return line_position, key_value_pairs\n",
    "\n",
    "def write_to_mongo(data, output_json):\n",
    "  collection.insert_one(data)\n",
    "\n",
    "def walk_directory(directory_path, total_doc_count):\n",
    "  for root, dirs, files in os.walk(directory_path, source):\n",
    "    for file in files:\n",
    "      if file.endswith(\".md\"):\n",
    "        data = open(os.path.join(root, file),'r').read()\n",
    "        lines = data.split('\\n')\n",
    "\n",
    "        line_position, key_value_pairs = get_key_value_pairs(lines)\n",
    "\n",
    "        # add content to key_value_pairs\n",
    "        content = get_content(lines, line_position)\n",
    "        key_value_pairs['content'] = content\n",
    "        key_value_pairs['source'] = source\n",
    "        key_value_pairs['path'] = os.path.join(root, file)\n",
    "        \n",
    "        # output json\n",
    "        output_json = json.dumps(key_value_pairs, indent=4)\n",
    "\n",
    "        # write to mongo\n",
    "        write_to_mongo(key_value_pairs, output_json)\n",
    "        total_doc_count += 1\n",
    "  return total_doc_count    \n",
    "\n",
    "expected_total = 0\n",
    "\n",
    "source = \"www\"\n",
    "expected_total = walk_directory('/Users/kevinbutler/Documents/GitHub/www/content/', expected_total)\n",
    "\n",
    "source = \"readme_docs\"\n",
    "expected_total = walk_directory('/Users/kevinbutler/Documents/GitHub/readme-docs/v1.0/', expected_total)\n",
    "\n",
    "# Query MongoDB and \n",
    "query = {}\n",
    "result = collection.count_documents(query)\n",
    "\n",
    "while (result != expected_total):\n",
    "    print(str(result) + '!=' + str(expected_total))\n",
    "    # Query MongoDB\n",
    "    query = {}\n",
    "    result = collection.count_documents(query)\n",
    "else:\n",
    "  print(\"Job Complete\")"
   ]
  },
  {
   "cell_type": "code",
   "execution_count": 6,
   "metadata": {},
   "outputs": [],
   "source": [
    "# Query MongoDB\n",
    "query = {}\n",
    "result = collection.find(query)\n",
    "\n",
    "# Convert MongoDB results to array\n",
    "for row in result:\n",
    "    redis_client.set(str(row['_id']), str(row['content']))"
   ]
  },
  {
   "cell_type": "code",
   "execution_count": 1,
   "metadata": {},
   "outputs": [
    {
     "data": {
      "text/plain": [
       "<pymongo.results.DeleteResult at 0x10a3dfbe0>"
      ]
     },
     "execution_count": 1,
     "metadata": {},
     "output_type": "execute_result"
    }
   ],
   "source": [
    "# Clear MongoDB\n",
    "from pymongo import MongoClient\n",
    "client = MongoClient('mongodb://localhost:27017')\n",
    "db = client['pinecone']\n",
    "collection = db['combined']\n",
    "collection.delete_many({})"
   ]
  },
  {
   "cell_type": "code",
   "execution_count": 7,
   "metadata": {},
   "outputs": [
    {
     "data": {
      "text/plain": [
       "(16,\n",
       " [b'63efba222b9a121dbfe1e99d',\n",
       "  b'63efba222b9a121dbfe1e97d',\n",
       "  b'63efba222b9a121dbfe1ea1e',\n",
       "  b'63efba222b9a121dbfe1ea0f',\n",
       "  b'63efba222b9a121dbfe1ea1b',\n",
       "  b'63efba222b9a121dbfe1e9b5',\n",
       "  b'63efba222b9a121dbfe1e9b7',\n",
       "  b'63efba222b9a121dbfe1e9d2',\n",
       "  b'63efba222b9a121dbfe1e9d8',\n",
       "  b'63efba222b9a121dbfe1ea3a'])"
      ]
     },
     "execution_count": 7,
     "metadata": {},
     "output_type": "execute_result"
    }
   ],
   "source": [
    "redis_client.scan()"
   ]
  },
  {
   "cell_type": "code",
   "execution_count": 8,
   "metadata": {},
   "outputs": [
    {
     "data": {
      "text/plain": [
       "b'Pinecone makes it easy to build high-performance **vector search** applications. It\\xe2\\x80\\x99s a managed, cloud-native vector database with a **simple API** and no infrastructure hassles.  Key benefits of Pinecone:  * Fast: Ultra-low query latency at any scale, even with billions of items. * Fresh: Live index updates when you add, edit, or delete data. * Filtered: Combine vector search with metadata filters for more relevant, faster results. * Fully managed: Easy to start, use, and scale, while we keep things running smoothly and securely.   ## Key concepts  #### Vector search  Unlike traditional search methods that revolve around keywords, it is done by indexing and searching through ML-generated representations of data \\xe2\\x80\\x94 vector embeddings \\xe2\\x80\\x94 to find items most similar to the query.  #### Vector embeddings  [Vector embeddings](https://www.pinecone.io/learn/vector-embeddings/), or \\xe2\\x80\\x9cvectors,\\xe2\\x80\\x9d are sets of floating-point numbers that represent objects. They are generated by [embedding models](https://www.pinecone.io/learn/sentence-embeddings/) trained to capture the semantic similarity of objects in a given set.  You need to have vector embeddings to use Pinecone.  #### Vector database  A [vector database](https://www.pinecone.io/learn/vector-database/) indexes and stores vector embeddings for efficient management and fast retrieval. Unlike a standalone [vector index](https://www.pinecone.io/learn/vector-indexes/), a vector database like Pinecone provides additional capabilities such as index management, data management, metadata storage and filtering, and horizontal scaling.  ## Example use cases  Want to see more and start with working example notebooks? See: [Example Applications](/docs/examples)  * Semantic text search: Convert text data into vector embeddings using an [NLP](https://www.pinecone.io/learn/nlp/) transformer (eg, [a sentence embedding model](https://www.pinecone.io/learn/sentence-embeddings/)), then index and search through those vectors using Pinecone. * Question-answering: Index a set of questions as vectors and retrieve the most similar question\\xe2\\x80\\x99s answer for any new question. * Image similarity search: Transform image data into vector embeddings and build an index with Pinecone. Then convert query images into vectors and retrieve similar images. * Product recommendations: Generate product recommendations for ecommerce based on vectors representing users.   ## Overview of the workflow  ![workflow](https://raw.githubusercontent.com/pinecone-io/img/main/workflow.png)  Follow these guides to set up your index::  1. [Create an index](https://docs.pinecone.io/docs/manage-indexes) 2. [Connect to an index](https://docs.pinecone.io/docs/manage-data#connect) 3. [Insert the data](https://docs.pinecone.io/docs/insert-data) (and vectors) into the index  Once you have an index with data, follow these guides to start using your index:  - [Query the data](https://docs.pinecone.io/docs/query-data)   - [Filter the data](https://docs.pinecone.io/docs/metadata-filtering) - [Fetch data](https://docs.pinecone.io/docs/manage-data#fetching-an-item) - [Insert more data](https://docs.pinecone.io/docs/insert-data) or update existing vectors - [Manage the index](https://docs.pinecone.io/docs/manage-indexes) - [Manage data](https://docs.pinecone.io/docs/manage-data)  ## Pricing and deployment options  [Visit the pricing page](https://www.pinecone.io/pricing/) for pricing and deployment options.  Get started with Pinecone ---------------  [Go to the quickstart guide](https://docs.pinecone.io/docs/quickstart) to get a production-ready vector search service up and running in minutes. '"
      ]
     },
     "execution_count": 8,
     "metadata": {},
     "output_type": "execute_result"
    }
   ],
   "source": [
    "redis_client.get('63efba222b9a121dbfe1ea1e')"
   ]
  },
  {
   "cell_type": "code",
   "execution_count": 4,
   "metadata": {},
   "outputs": [
    {
     "data": {
      "text/plain": [
       "<pymongo.results.DeleteResult at 0x105ec7af0>"
      ]
     },
     "execution_count": 4,
     "metadata": {},
     "output_type": "execute_result"
    }
   ],
   "source": [
    "# Full Reload from scratch (Redis)\n",
    "redis_client.flushall()\n",
    "\n",
    "# Full Reload from scratch (MongoDB)\n",
    "collection.delete_many({})"
   ]
  },
  {
   "cell_type": "code",
   "execution_count": null,
   "metadata": {},
   "outputs": [],
   "source": []
  }
 ],
 "metadata": {
  "kernelspec": {
   "display_name": "Python 3",
   "language": "python",
   "name": "python3"
  },
  "language_info": {
   "codemirror_mode": {
    "name": "ipython",
    "version": 3
   },
   "file_extension": ".py",
   "mimetype": "text/x-python",
   "name": "python",
   "nbconvert_exporter": "python",
   "pygments_lexer": "ipython3",
   "version": "3.10.9"
  },
  "orig_nbformat": 4,
  "vscode": {
   "interpreter": {
    "hash": "1ae620fa7718e7c4c4ebbe84e693c2c763ab51099ed818be0c928eb925e26ad7"
   }
  }
 },
 "nbformat": 4,
 "nbformat_minor": 2
}
