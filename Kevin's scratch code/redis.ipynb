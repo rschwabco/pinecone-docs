{
 "cells": [
  {
   "cell_type": "code",
   "execution_count": 4,
   "metadata": {},
   "outputs": [
    {
     "name": "stdout",
     "output_type": "stream",
     "text": [
      "{'content': 'escaped text', 'source': 'www', 'file': 'pricing.md'}\n"
     ]
    }
   ],
   "source": [
    "import redis\n",
    "import json\n",
    "\n",
    "r = redis.Redis(host='192.168.1.206', port=6379, db=0)\n",
    "data = {\"content\":\"escaped text\",\"source\":\"www\",\"file\":\"pricing.md\"}\n",
    "r.set('63e3bafdada3b5fc0d68bd64', json.dumps(data))\n",
    "\n",
    "data = r.get('63e3bafdada3b5fc0d68bd64')\n",
    "data = json.loads(data)\n",
    "print(data)\n",
    "# Output: {'name': 'John Doe', 'age': 28}"
   ]
  },
  {
   "cell_type": "code",
   "execution_count": 5,
   "metadata": {},
   "outputs": [
    {
     "data": {
      "text/plain": [
       "(0, [b'63e3bafdada3b5fc0d68bd64'])"
      ]
     },
     "execution_count": 5,
     "metadata": {},
     "output_type": "execute_result"
    }
   ],
   "source": [
    "r.scan()"
   ]
  },
  {
   "cell_type": "code",
   "execution_count": 7,
   "metadata": {},
   "outputs": [
    {
     "data": {
      "text/plain": [
       "b'{\"content\": \"escaped text\", \"source\": \"www\", \"file\": \"pricing.md\"}'"
      ]
     },
     "execution_count": 7,
     "metadata": {},
     "output_type": "execute_result"
    }
   ],
   "source": [
    "r.get('63e3bafdada3b5fc0d68bd64')"
   ]
  },
  {
   "cell_type": "code",
   "execution_count": 5,
   "metadata": {},
   "outputs": [
    {
     "name": "stdout",
     "output_type": "stream",
     "text": [
      "-5013642296089281321\n"
     ]
    }
   ],
   "source": [
    "print(hash('conten.md'))"
   ]
  },
  {
   "cell_type": "code",
   "execution_count": null,
   "metadata": {},
   "outputs": [],
   "source": []
  }
 ],
 "metadata": {
  "kernelspec": {
   "display_name": "Python 3",
   "language": "python",
   "name": "python3"
  },
  "language_info": {
   "codemirror_mode": {
    "name": "ipython",
    "version": 3
   },
   "file_extension": ".py",
   "mimetype": "text/x-python",
   "name": "python",
   "nbconvert_exporter": "python",
   "pygments_lexer": "ipython3",
   "version": "3.10.9"
  },
  "orig_nbformat": 4,
  "vscode": {
   "interpreter": {
    "hash": "1ae620fa7718e7c4c4ebbe84e693c2c763ab51099ed818be0c928eb925e26ad7"
   }
  }
 },
 "nbformat": 4,
 "nbformat_minor": 2
}
