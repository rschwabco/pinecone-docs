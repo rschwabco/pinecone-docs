{
 "cells": [
  {
   "cell_type": "code",
   "execution_count": 22,
   "metadata": {},
   "outputs": [],
   "source": [
    "from pymongo import MongoClient\n",
    "import redis\n",
    "\n",
    "# Connect to MongoDB\n",
    "client = MongoClient('mongodb://localhost:27017')\n",
    "db = client['pinecone']\n",
    "collection = db['combined']\n",
    "\n",
    "# Connect to Redis\n",
    "redis_client = redis.Redis(host='192.168.1.206', port=6379, db=0)\n",
    "\n",
    "# Query MongoDB\n",
    "query = {}\n",
    "result = collection.find(query)\n",
    "\n",
    "# Convert MongoDB results to array\n",
    "for row in result:\n",
    "    redis_client.set(str(row['_id']), str(row['content']))"
   ]
  },
  {
   "cell_type": "code",
   "execution_count": null,
   "metadata": {},
   "outputs": [],
   "source": [
    "redis_client.flushall()"
   ]
  },
  {
   "cell_type": "code",
   "execution_count": null,
   "metadata": {},
   "outputs": [],
   "source": [
    "redis_client.dbsize()"
   ]
  }
 ],
 "metadata": {
  "kernelspec": {
   "display_name": "Python 3",
   "language": "python",
   "name": "python3"
  },
  "language_info": {
   "codemirror_mode": {
    "name": "ipython",
    "version": 3
   },
   "file_extension": ".py",
   "mimetype": "text/x-python",
   "name": "python",
   "nbconvert_exporter": "python",
   "pygments_lexer": "ipython3",
   "version": "3.10.9"
  },
  "orig_nbformat": 4,
  "vscode": {
   "interpreter": {
    "hash": "1ae620fa7718e7c4c4ebbe84e693c2c763ab51099ed818be0c928eb925e26ad7"
   }
  }
 },
 "nbformat": 4,
 "nbformat_minor": 2
}
